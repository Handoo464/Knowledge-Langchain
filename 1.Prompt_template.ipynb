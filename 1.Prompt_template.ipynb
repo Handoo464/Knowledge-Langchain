{
 "cells": [
  {
   "cell_type": "code",
   "execution_count": 1,
   "metadata": {},
   "outputs": [
    {
     "name": "stdout",
     "output_type": "stream",
     "text": [
      "CUDA khả dụng: True\n",
      "Tên GPU: NVIDIA GeForce MX350\n",
      "Phiên bản CUDA: 11.8\n"
     ]
    }
   ],
   "source": [
    "import torch\n",
    "\n",
    "print(\"CUDA khả dụng:\", torch.cuda.is_available())  \n",
    "if torch.cuda.is_available():\n",
    "    print(\"Tên GPU:\", torch.cuda.get_device_name(0))\n",
    "    print(\"Phiên bản CUDA:\", torch.version.cuda)\n"
   ]
  },
  {
   "cell_type": "markdown",
   "metadata": {},
   "source": [
    "# 1. Huggingface models"
   ]
  },
  {
   "cell_type": "code",
   "execution_count": 2,
   "metadata": {},
   "outputs": [],
   "source": [
    "import torch\n",
    "from transformers import BitsAndBytesConfig\n",
    "from transformers import AutoTokenizer, AutoModelForCausalLM, pipeline\n",
    "from langchain. llms.huggingface_pipeline import HuggingFacePipeline"
   ]
  },
  {
   "cell_type": "markdown",
   "metadata": {},
   "source": [
    "# 1.1 Load model from huggingface"
   ]
  },
  {
   "cell_type": "code",
   "execution_count": 3,
   "metadata": {},
   "outputs": [
    {
     "data": {
      "application/vnd.jupyter.widget-view+json": {
       "model_id": "f2c39b10bd7643078198435814903c23",
       "version_major": 2,
       "version_minor": 0
      },
      "text/plain": [
       "Loading checkpoint shards:   0%|          | 0/2 [00:00<?, ?it/s]"
      ]
     },
     "metadata": {},
     "output_type": "display_data"
    }
   ],
   "source": [
    "model_name: str = \"microsoft/phi-2\"\n",
    "\n",
    "nf4_config = BitsAndBytesConfig(\n",
    "load_in_4bit=True,\n",
    "bnb_4bit_quant_type=\"nf4\",\n",
    "bnb_4bit_use_double_quant=True,\n",
    "bnb_4bit_compute_dtype=torch.bfloat16\n",
    ")\n",
    "model = AutoModelForCausalLM. from_pretrained(\n",
    "model_name,\n",
    "quantization_config=nf4_config,\n",
    "low_cpu_mem_usage=True)"
   ]
  },
  {
   "cell_type": "code",
   "execution_count": 4,
   "metadata": {},
   "outputs": [
    {
     "name": "stderr",
     "output_type": "stream",
     "text": [
      "Special tokens have been added in the vocabulary, make sure the associated word embeddings are fine-tuned or trained.\n"
     ]
    }
   ],
   "source": [
    "tokenizer = AutoTokenizer. from_pretrained(model_name)\n",
    "max_new_token = 1024\n",
    "\n",
    "model_pipeline = pipeline(\n",
    "\"text-generation\",\n",
    "model=model,\n",
    "tokenizer=tokenizer,\n",
    "max_new_tokens=max_new_token,\n",
    "pad_token_id=tokenizer.eos_token_id)"
   ]
  },
  {
   "cell_type": "code",
   "execution_count": 5,
   "metadata": {},
   "outputs": [
    {
     "name": "stderr",
     "output_type": "stream",
     "text": [
      "C:\\Users\\ngchn\\AppData\\Local\\Temp\\ipykernel_7996\\519883150.py:4: LangChainDeprecationWarning: The class `HuggingFacePipeline` was deprecated in LangChain 0.0.37 and will be removed in 1.0. An updated version of the class exists in the :class:`~langchain-huggingface package and should be used instead. To use it run `pip install -U :class:`~langchain-huggingface` and import as `from :class:`~langchain_huggingface import HuggingFacePipeline``.\n",
      "  llm = HuggingFacePipeline(\n"
     ]
    }
   ],
   "source": [
    "gen_kwargs = {\n",
    "\"temperature\": 0.6\n",
    "}\n",
    "llm = HuggingFacePipeline(\n",
    "pipeline=model_pipeline,\n",
    "model_kwargs=gen_kwargs)"
   ]
  },
  {
   "cell_type": "code",
   "execution_count": 6,
   "metadata": {},
   "outputs": [
    {
     "data": {
      "text/plain": [
       "'Hello, how are you?\\n\\nI hope this email finds you well. I am writing to you as a fellow alumni of our high school. I just wanted to say hello and see how you are doing.\\n\\nI am currently working as a software engineer at a tech company in San Francisco. I enjoy my job and I am always learning new things. I also got married last year and we have a cute dog named Milo.\\n\\nWhat about you? What have you been up to? Are you still pursuing your passion for photography? Have you traveled to any new places? I would love to hear from you and catch up on our lives.\\n\\nPlease reply when you have some time. I miss you and I hope we can reconnect soon.\\n\\nBest regards,\\nYour name\\n'"
      ]
     },
     "execution_count": 6,
     "metadata": {},
     "output_type": "execute_result"
    }
   ],
   "source": [
    "llm.invoke(\"Hello, how are you?\")"
   ]
  },
  {
   "cell_type": "code",
   "execution_count": 7,
   "metadata": {},
   "outputs": [],
   "source": [
    "from langchain_core.prompts import PromptTemplate\n",
    "\n",
    "prompt_template = PromptTemplate. from_template(\n",
    "\"\"\"Instruct: {prompt}\\nOutput:\"\n",
    "\"\"\"\n",
    ")\n",
    "\n",
    "user_prompt = \"Write a detailed analogy between mathematics and a lighthouse.\"\n",
    "messages = prompt_template. format(prompt=user_prompt)"
   ]
  },
  {
   "cell_type": "code",
   "execution_count": 8,
   "metadata": {},
   "outputs": [
    {
     "name": "stdout",
     "output_type": "stream",
     "text": [
      "Instruct: Write a detailed analogy between mathematics and a lighthouse.\n",
      "Output:\"\n",
      "\n"
     ]
    }
   ],
   "source": [
    "print(messages)"
   ]
  },
  {
   "cell_type": "code",
   "execution_count": 9,
   "metadata": {},
   "outputs": [
    {
     "name": "stdout",
     "output_type": "stream",
     "text": [
      "Instruct: Write a detailed analogy between mathematics and a lighthouse.\n",
      "Output:\"\n",
      "\n",
      "In mathematics, a lighthouse is like a guiding light that helps sailors navigate through the vast ocean of numbers and equations. Just as a lighthouse emits a strong beam of light to guide ships to safety, mathematics provides us with a set of tools and techniques to navigate through complex problems and find solutions.\n",
      "\n",
      "Just as a lighthouse has a clear and focused beam of light, mathematics provides us with a clear and logical framework to analyze and solve problems. It helps us to organize our thoughts and approach problems in a systematic manner.\n",
      "\n",
      "Just as a lighthouse is built on a solid foundation, mathematics is built on a foundation of fundamental concepts and principles. These concepts serve as the building blocks for more advanced mathematical ideas and allow us to explore and understand the world around us.\n",
      "\n",
      "Just as a lighthouse is constantly monitored and maintained, mathematics requires continuous practice and revision to ensure that our knowledge and skills are up to date. It is a lifelong journey of learning and discovery.\n",
      "\n",
      "Just as a lighthouse provides a sense of security and guidance to sailors, mathematics provides us with a sense of security and confidence in our ability to solve problems. It empowers us to make informed decisions and navigate through the complexities of the world.\n",
      "\n",
      "Just as a lighthouse is a symbol of hope and resilience, mathematics is a symbol of human ingenuity and creativity. It is a testament to our ability to explore, understand, and manipulate the world around us.\n",
      "\n",
      "Just as a lighthouse is a beacon of light in the darkness, mathematics is a beacon of knowledge and understanding in a world filled with uncertainty and ambiguity. It provides us with a framework to make sense of the world and find meaning in the chaos.\n",
      "\n",
      "Just as a lighthouse is a source of inspiration and motivation, mathematics is a source of inspiration and motivation to explore new ideas and push the boundaries of knowledge. It encourages us to think critically, ask questions, and seek answers.\n",
      "\n",
      "Just as a lighthouse is a symbol of human achievement and progress, mathematics is a symbol of human achievement and progress. It has played a crucial role in the development of science, technology, and civilization, and continues to shape our understanding of the world.\n",
      "\n",
      "Just as a lighthouse is a beacon of hope and guidance, mathematics is a beacon of hope and guidance in our quest for knowledge and understanding. It provides us with a roadmap to navigate through the complexities of the world and find meaning in the chaos.\n",
      "\n",
      "Just as a lighthouse is a symbol of human resilience and determination, mathematics is a symbol of human resilience and determination to overcome challenges and solve problems. It teaches us to persevere in the face of adversity and to never give up on our quest for knowledge and understanding.\n",
      "\n",
      "Just as a lighthouse is a source of inspiration and motivation, mathematics is a source of inspiration and motivation to explore new ideas and push the boundaries of knowledge. It encourages us to think critically, ask questions, and seek answers.\n",
      "\n",
      "Just as a lighthouse is a symbol of human achievement and progress, mathematics is a symbol of human achievement and progress. It has played a crucial role in the development of science, technology, and civilization, and continues to shape our understanding of the world.\n",
      "\n",
      "Just as a lighthouse is a beacon of hope and guidance, mathematics is a beacon of hope and guidance in our quest for knowledge and understanding. It provides us with a roadmap to navigate through the complexities of the world and find meaning in the chaos.\n",
      "\n",
      "Just as a lighthouse is a symbol of human resilience and determination, mathematics is a symbol of human resilience and determination to overcome challenges and solve problems. It teaches us to persevere in the face of adversity and to never give up on our quest for knowledge and understanding.\n",
      "\n",
      "Just as a lighthouse is a source of inspiration and motivation, mathematics is a source of inspiration and motivation to explore new ideas and push the boundaries of knowledge. It encourages us to think critically, ask questions, and seek answers.\n",
      "\n",
      "Just as a lighthouse is a symbol of human achievement and progress, mathematics is a symbol of human achievement and progress. It has played a crucial role in the development of science, technology, and civilization, and continues to shape our understanding of the world.\n",
      "\n",
      "Just as a lighthouse is a beacon of hope and guidance, mathematics is a beacon of hope and guidance in our quest for knowledge and understanding. It provides us with a roadmap to navigate through the complexities of the world and find meaning in the chaos.\n",
      "\n",
      "Just as a lighthouse is a symbol of human resilience and determination, mathematics is a symbol of human resilience and determination to overcome challenges and solve problems. It teaches us to persevere in the face of adversity and to never give up on our quest for knowledge and understanding.\n",
      "\n",
      "Just as a lighthouse is a source of inspiration and motivation, mathematics is a source of inspiration and motivation to explore new ideas and push the boundaries of knowledge. It encourages us to think critically, ask questions, and seek answers.\n",
      "\n",
      "Just as a lighthouse is a symbol of human achievement and progress, mathematics is a symbol of human achievement and progress.\n"
     ]
    }
   ],
   "source": [
    "output = llm.invoke(messages)\n",
    "print(output)"
   ]
  },
  {
   "cell_type": "markdown",
   "metadata": {},
   "source": [
    "# 2. ChatPrompt template"
   ]
  },
  {
   "cell_type": "code",
   "execution_count": 10,
   "metadata": {},
   "outputs": [],
   "source": [
    "from langchain_core.prompts import ChatPromptTemplate"
   ]
  },
  {
   "cell_type": "code",
   "execution_count": 11,
   "metadata": {},
   "outputs": [],
   "source": [
    "messages = [\n",
    "(\"system\", \"You are a helpful AI bot. Your name is {bot_name}.\"),\n",
    "(\"user\", \"Hi!\"),\n",
    "(\"assistant\", \"Hello. How can I help you today?\"),\n",
    "(\"user\", \"{user_input}\"),\n",
    "]"
   ]
  },
  {
   "cell_type": "code",
   "execution_count": 12,
   "metadata": {},
   "outputs": [],
   "source": [
    "chat_template = ChatPromptTemplate.from_messages(messages)"
   ]
  },
  {
   "cell_type": "code",
   "execution_count": 13,
   "metadata": {},
   "outputs": [
    {
     "data": {
      "text/plain": [
       "[SystemMessage(content='You are a helpful AI bot. Your name is Halo.', additional_kwargs={}, response_metadata={}),\n",
       " HumanMessage(content='Hi!', additional_kwargs={}, response_metadata={}),\n",
       " AIMessage(content='Hello. How can I help you today?', additional_kwargs={}, response_metadata={}),\n",
       " HumanMessage(content='Do you have mayonnaise recipes?', additional_kwargs={}, response_metadata={})]"
      ]
     },
     "execution_count": 13,
     "metadata": {},
     "output_type": "execute_result"
    }
   ],
   "source": [
    "chat_template. format_messages(\n",
    "bot_name=\"Halo\",\n",
    "user_input=\"Do you have mayonnaise recipes?\") "
   ]
  },
  {
   "cell_type": "code",
   "execution_count": 14,
   "metadata": {},
   "outputs": [
    {
     "name": "stdout",
     "output_type": "stream",
     "text": [
      "[('system', 'You are a helpful AI bot. Your name is {bot_name}.'), ('user', 'Hi!'), ('assistant', 'Hello. How can I help you today?'), ('user', '{user_input}')]\n"
     ]
    }
   ],
   "source": [
    "print(messages)"
   ]
  }
 ],
 "metadata": {
  "kernelspec": {
   "display_name": "Python 3",
   "language": "python",
   "name": "python3"
  },
  "language_info": {
   "codemirror_mode": {
    "name": "ipython",
    "version": 3
   },
   "file_extension": ".py",
   "mimetype": "text/x-python",
   "name": "python",
   "nbconvert_exporter": "python",
   "pygments_lexer": "ipython3",
   "version": "3.11.2"
  }
 },
 "nbformat": 4,
 "nbformat_minor": 2
}
