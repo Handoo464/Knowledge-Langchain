{
 "cells": [
  {
   "cell_type": "markdown",
   "metadata": {},
   "source": [
    "## 1. Cài đặt và Import các thư viện cần thiết"
   ]
  },
  {
   "cell_type": "code",
   "execution_count": null,
   "metadata": {},
   "outputs": [],
   "source": [
    "import numpy as np\n",
    "import collections\n",
    "import torch\n",
    "import faiss\n",
    "import evaluate\n",
    "\n",
    "from datasets import load_dataset\n",
    "from transformers import AutoTokenizer, AutoModel, AutoModelForQuestionAnswering, TrainingArguments, Trainer\n",
    "from tqdm.auto import tqdm\n",
    "\n",
    "device = torch.device(\"cuda\") if torch.cuda.is_available() else torch.device(\"cpu\")\n"
   ]
  },
  {
   "cell_type": "markdown",
   "metadata": {},
   "source": [
    "## 2. Tải bộ dữ liệu"
   ]
  },
  {
   "cell_type": "code",
   "execution_count": null,
   "metadata": {},
   "outputs": [],
   "source": [
    "DATASET_NAME = \"squad_v2\"\n",
    "raw_datasets = load_dataset(DATASET_NAME, split='train+validation')\n",
    "raw_datasets"
   ]
  },
  {
   "cell_type": "markdown",
   "metadata": {},
   "source": [
    "## 3. Loại bỏ các mẫu không có đáp án"
   ]
  },
  {
   "cell_type": "code",
   "execution_count": null,
   "metadata": {},
   "outputs": [],
   "source": [
    "raw_datasets = raw_datasets.filter(\n",
    "    lambda x: len(x['answers']['text']) > 0\n",
    ")"
   ]
  },
  {
   "cell_type": "markdown",
   "metadata": {},
   "source": [
    "## 4. Khởi tạo mô hình"
   ]
  },
  {
   "cell_type": "code",
   "execution_count": null,
   "metadata": {},
   "outputs": [],
   "source": [
    "MODEL_NAME = 'distilbert-base-uncased'\n",
    "tokenizer = AutoTokenizer.from_pretrained(MODEL_NAME)\n",
    "model = AutoModel.from_pretrained(MODEL_NAME).to(device)"
   ]
  },
  {
   "cell_type": "markdown",
   "metadata": {},
   "source": [
    "## 5. Xây dựng hàm lấy vector embedding"
   ]
  },
  {
   "cell_type": "code",
   "execution_count": null,
   "metadata": {},
   "outputs": [],
   "source": [
    "def cls_pooling(model_output):\n",
    "    return model_output.last_hidden_state[:, 0]"
   ]
  },
  {
   "cell_type": "code",
   "execution_count": null,
   "metadata": {},
   "outputs": [],
   "source": [
    "def get_embeddings(text_list):\n",
    "    encoded_input - tokenizer(\n",
    "        text_list,\n",
    "        padding= True,\n",
    "        truncation = True,\n",
    "        return_tensors = 'pt',\n",
    "    )\n",
    "    encoded_input = {k: v.to(device) for k, v in encoded_input.items()}\n",
    "    model_output = model(**encoded_input)\n",
    "\n",
    "    return cls_pooling(model_output)"
   ]
  },
  {
   "cell_type": "markdown",
   "metadata": {},
   "source": [
    "## 6. Xây dựng vector database"
   ]
  },
  {
   "cell_type": "code",
   "execution_count": null,
   "metadata": {},
   "outputs": [],
   "source": [
    "EMBEDDING_COLUMN = 'question_embedding'\n",
    "embeddings_dataset = raw_datasets.map(\n",
    "    lambda x: {\n",
    "        EMBEDDING_COLUMN: get_embeddings(\n",
    "            x['question']\n",
    "        ).detach().cpu().numpy()[0]\n",
    "    }\n",
    ")"
   ]
  },
  {
   "cell_type": "code",
   "execution_count": null,
   "metadata": {},
   "outputs": [],
   "source": [
    "embeddings_dataset.add_faiss_index(column = EMBEDDING_COLUMN)"
   ]
  },
  {
   "cell_type": "code",
   "execution_count": null,
   "metadata": {},
   "outputs": [],
   "source": [
    "input_question = 'When did Beyonce start becoming popular?'\n",
    "\n",
    "input_ques_embedding = get_embeddings([input_question])\n",
    "input_ques_embedding = input_ques_embedding.cpu().detach().numpy()\n",
    "\n",
    "TOP_K = 5\n",
    "scores, samples = embeddings_dataset.get_nearest_examples(\n",
    "    EMBEDDING_COLUMN, input_ques_embedding, k = TOP_K\n",
    ")\n",
    "\n",
    "for idx, score in enumerate(scores):\n",
    "    print(f'Top (idx + 1)\\tScore: {scores}')\n",
    "    print(f'Question: {samples[\"question\"][idx]}')\n",
    "    print(f'Context: {samples[\"context\"][idx]}')\n",
    "    print()"
   ]
  },
  {
   "cell_type": "markdown",
   "metadata": {},
   "source": [
    "## 7. Áp dụng mô hình hỏi - đáp để trả lời câu hỏi"
   ]
  },
  {
   "cell_type": "code",
   "execution_count": null,
   "metadata": {},
   "outputs": [],
   "source": [
    "from transformer import pipeline\n",
    "\n",
    "PIPELINE_NAME = 'question-answering'\n",
    "MODEL_NAME = '........' # Tên model đã fine-tuning trên hugging face\n",
    "pipe = pipeline(PIPELINE_NAME, model=MODEL_NAME)"
   ]
  },
  {
   "cell_type": "code",
   "execution_count": null,
   "metadata": {},
   "outputs": [],
   "source": [
    "print(f'Input question: ' {input_question})\n",
    "for idx, score in enumerate(scores):\n",
    "    question = samples[\"question\"][idx]\n",
    "    context = samples[\"context\"][idx]\n",
    "    answer = pipe(\n",
    "        question = question,\n",
    "        context = context\n",
    "    )\n",
    "    print(f'Top (idx + 1)\\tScore: {scores}')\n",
    "    print(f'Context: {context}')\n",
    "    print(f'Answer: {answer}')\n",
    "    print()"
   ]
  }
 ],
 "metadata": {
  "language_info": {
   "name": "python"
  }
 },
 "nbformat": 4,
 "nbformat_minor": 2
}
