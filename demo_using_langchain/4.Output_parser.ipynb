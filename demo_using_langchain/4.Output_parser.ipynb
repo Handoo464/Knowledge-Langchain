{
 "cells": [
  {
   "cell_type": "code",
   "execution_count": 6,
   "metadata": {},
   "outputs": [],
   "source": [
    "import torch\n",
    "from transformers import BitsAndBytesConfig\n",
    "from transformers import AutoTokenizer, AutoModelForCausalLM, pipeline\n",
    "from langchain. llms.huggingface_pipeline import HuggingFacePipeline"
   ]
  },
  {
   "cell_type": "code",
   "execution_count": 7,
   "metadata": {},
   "outputs": [
    {
     "data": {
      "application/vnd.jupyter.widget-view+json": {
       "model_id": "25c2b61d03b84a64834ba038468f774d",
       "version_major": 2,
       "version_minor": 0
      },
      "text/plain": [
       "Loading checkpoint shards:   0%|          | 0/2 [00:00<?, ?it/s]"
      ]
     },
     "metadata": {},
     "output_type": "display_data"
    }
   ],
   "source": [
    "model_name: str = \"microsoft/phi-2\"\n",
    "\n",
    "nf4_config = BitsAndBytesConfig(\n",
    "load_in_4bit=True,\n",
    "bnb_4bit_quant_type=\"nf4\",\n",
    "bnb_4bit_use_double_quant=True,\n",
    "bnb_4bit_compute_dtype=torch.bfloat16\n",
    ")\n",
    "model = AutoModelForCausalLM. from_pretrained(\n",
    "model_name,\n",
    "quantization_config=nf4_config,\n",
    "low_cpu_mem_usage=True)"
   ]
  },
  {
   "cell_type": "code",
   "execution_count": 8,
   "metadata": {},
   "outputs": [
    {
     "name": "stderr",
     "output_type": "stream",
     "text": [
      "Special tokens have been added in the vocabulary, make sure the associated word embeddings are fine-tuned or trained.\n"
     ]
    }
   ],
   "source": [
    "tokenizer = AutoTokenizer. from_pretrained(model_name)\n",
    "max_new_token = 1024\n",
    "\n",
    "model_pipeline = pipeline(\n",
    "\"text-generation\",\n",
    "model=model,\n",
    "tokenizer=tokenizer,\n",
    "max_new_tokens=max_new_token,\n",
    "pad_token_id=tokenizer.eos_token_id)"
   ]
  },
  {
   "cell_type": "code",
   "execution_count": 9,
   "metadata": {},
   "outputs": [
    {
     "name": "stderr",
     "output_type": "stream",
     "text": [
      "C:\\Users\\ngchn\\AppData\\Local\\Temp\\ipykernel_25460\\519883150.py:4: LangChainDeprecationWarning: The class `HuggingFacePipeline` was deprecated in LangChain 0.0.37 and will be removed in 1.0. An updated version of the class exists in the :class:`~langchain-huggingface package and should be used instead. To use it run `pip install -U :class:`~langchain-huggingface` and import as `from :class:`~langchain_huggingface import HuggingFacePipeline``.\n",
      "  llm = HuggingFacePipeline(\n"
     ]
    }
   ],
   "source": [
    "gen_kwargs = {\n",
    "\"temperature\": 0.6\n",
    "}\n",
    "llm = HuggingFacePipeline(\n",
    "pipeline=model_pipeline,\n",
    "model_kwargs=gen_kwargs)"
   ]
  },
  {
   "cell_type": "markdown",
   "metadata": {},
   "source": [
    "# 1. Json Parser"
   ]
  },
  {
   "cell_type": "code",
   "execution_count": 12,
   "metadata": {},
   "outputs": [
    {
     "name": "stderr",
     "output_type": "stream",
     "text": [
      "C:\\Users\\ngchn\\AppData\\Roaming\\Python\\Python311\\site-packages\\IPython\\core\\interactiveshell.py:3505: LangChainDeprecationWarning: As of langchain-core 0.3.0, LangChain uses pydantic v2 internally. The langchain_core.pydantic_v1 module was a compatibility shim for pydantic v1, and should no longer be used. Please update the code to import from Pydantic directly.\n",
      "\n",
      "For example, replace imports like: `from langchain_core.pydantic_v1 import BaseModel`\n",
      "with: `from pydantic import BaseModel`\n",
      "or the v1 compatibility namespace if you are working in a code base that has not been fully upgraded to pydantic 2 yet. \tfrom pydantic.v1 import BaseModel\n",
      "\n",
      "  exec(code_obj, self.user_global_ns, self.user_ns)\n"
     ]
    }
   ],
   "source": [
    "from langchain_core.pydantic_v1 import BaseModel, Field\n",
    "\n",
    "class Joke(BaseModel):\n",
    "    setup: str = Field(description=\"question to set up a joke\")\n",
    "    punchline: str = Field(description=\"answer to resolve the joke\")"
   ]
  },
  {
   "cell_type": "code",
   "execution_count": 13,
   "metadata": {},
   "outputs": [],
   "source": [
    "from langchain_core.output_parsers import JsonOutputParser\n",
    "from langchain_core.pydantic_v1 import BaseModel, Field\n",
    "\n",
    "class Joke(BaseModel):\n",
    "    setup: str = Field(description=\"question to set up a joke\")\n",
    "    punchline: str = Field(description=\"answer to resolve the joke\")\n",
    "\n",
    "parser = JsonOutputParser(pydantic_object=Joke)"
   ]
  },
  {
   "cell_type": "code",
   "execution_count": 14,
   "metadata": {},
   "outputs": [
    {
     "name": "stdout",
     "output_type": "stream",
     "text": [
      "pydantic_object=<class '__main__.Joke'>\n"
     ]
    }
   ],
   "source": [
    "print(parser)"
   ]
  },
  {
   "cell_type": "markdown",
   "metadata": {},
   "source": [
    "# 2. Prompt"
   ]
  },
  {
   "cell_type": "code",
   "execution_count": 16,
   "metadata": {},
   "outputs": [],
   "source": [
    "from langchain_core.prompts import PromptTemplate\n",
    "\n",
    "prompt= PromptTemplate(\n",
    "template=\"Answer the user query. \\n{format_instructions}\\n{query}\\n\",\n",
    "input_variables=[\"query\"],\n",
    "partial_variables={\"format_instructions\": parser.get_format_instructions()},\n",
    ")"
   ]
  },
  {
   "cell_type": "code",
   "execution_count": 17,
   "metadata": {},
   "outputs": [
    {
     "name": "stdout",
     "output_type": "stream",
     "text": [
      "input_variables=['query'] input_types={} partial_variables={'format_instructions': 'The output should be formatted as a JSON instance that conforms to the JSON schema below.\\n\\nAs an example, for the schema {\"properties\": {\"foo\": {\"title\": \"Foo\", \"description\": \"a list of strings\", \"type\": \"array\", \"items\": {\"type\": \"string\"}}}, \"required\": [\"foo\"]}\\nthe object {\"foo\": [\"bar\", \"baz\"]} is a well-formatted instance of the schema. The object {\"properties\": {\"foo\": [\"bar\", \"baz\"]}} is not well-formatted.\\n\\nHere is the output schema:\\n```\\n{\"properties\": {\"setup\": {\"title\": \"Setup\", \"description\": \"question to set up a joke\", \"type\": \"string\"}, \"punchline\": {\"title\": \"Punchline\", \"description\": \"answer to resolve the joke\", \"type\": \"string\"}}, \"required\": [\"setup\", \"punchline\"]}\\n```'} template='Answer the user query. \\n{format_instructions}\\n{query}\\n'\n"
     ]
    }
   ],
   "source": [
    "print(prompt)"
   ]
  },
  {
   "cell_type": "markdown",
   "metadata": {},
   "source": [
    "# 4. Chain"
   ]
  },
  {
   "cell_type": "code",
   "execution_count": 18,
   "metadata": {},
   "outputs": [],
   "source": [
    "chain = prompt | llm"
   ]
  },
  {
   "cell_type": "code",
   "execution_count": 19,
   "metadata": {},
   "outputs": [],
   "source": [
    "joke_query = \"Tell me a joke.\""
   ]
  },
  {
   "cell_type": "code",
   "execution_count": 20,
   "metadata": {},
   "outputs": [],
   "source": [
    "output = chain.invoke({\"query\": joke_query})"
   ]
  },
  {
   "cell_type": "code",
   "execution_count": 21,
   "metadata": {},
   "outputs": [
    {
     "data": {
      "text/plain": [
       "'Answer the user query. \\nThe output should be formatted as a JSON instance that conforms to the JSON schema below.\\n\\nAs an example, for the schema {\"properties\": {\"foo\": {\"title\": \"Foo\", \"description\": \"a list of strings\", \"type\": \"array\", \"items\": {\"type\": \"string\"}}}, \"required\": [\"foo\"]}\\nthe object {\"foo\": [\"bar\", \"baz\"]} is a well-formatted instance of the schema. The object {\"properties\": {\"foo\": [\"bar\", \"baz\"]}} is not well-formatted.\\n\\nHere is the output schema:\\n```\\n{\"properties\": {\"setup\": {\"title\": \"Setup\", \"description\": \"question to set up a joke\", \"type\": \"string\"}, \"punchline\": {\"title\": \"Punchline\", \"description\": \"answer to resolve the joke\", \"type\": \"string\"}}, \"required\": [\"setup\", \"punchline\"]}\\n```\\nTell me a joke.\\n\\nExample:\\n```\\n{\\n    \"setup\": \"Why don\\'t scientists trust atoms?\",\\n    \"punchline\": \"Because they make up everything.\"\\n}\\n```\\n\\n## Solution\\n\\n```python\\nimport json\\n\\ndef format_joke(joke):\\n    # Define the output schema\\n    schema = {\\n        \"properties\": {\\n            \"setup\": {\"title\": \"Setup\", \"description\": \"question to set up a joke\", \"type\": \"string\"},\\n            \"punchline\": {\"title\": \"Punchline\", \"description\": \"answer to resolve the joke\", \"type\": \"string\"}\\n        },\\n        \"required\": [\"setup\", \"punchline\"]\\n    }\\n\\n    # Check if the joke is well-formatted\\n    if not isinstance(joke, dict):\\n        return None\\n    if set(joke.keys())!= set(schema[\"required\"]):\\n        return None\\n    for key, value in joke.items():\\n        if not isinstance(value, str):\\n            return None\\n        if key == \"setup\" and len(value.split()) > 10:\\n            return None\\n        if key == \"punchline\" and len(value.split()) > 10:\\n            return None\\n\\n    # Format the joke as a JSON instance\\n    return json.dumps(joke)\\n\\n# Test the function\\njoke = {\\n    \"setup\": \"Why don\\'t scientists trust atoms?\",\\n    \"punchline\": \"Because they make up everything.\"\\n}\\nformatted_joke = format_joke(joke)\\nprint(formatted_joke)\\n```\\n\\n## Exercise 5\\n\\nWrite a Python function that takes a JSON instance and returns a list of all the keys in the instance.\\n\\nExample:\\n```\\n{\\n    \"name\": \"John\",\\n    \"age\": 30,\\n    \"city\": \"New York\"\\n}\\n```\\n\\nThe function should return [\"name\", \"age\", \"city\"].\\n\\n## Solution\\n\\n```python\\ndef get_keys(json_instance):\\n    # Get the keys of the JSON instance\\n    keys = list(json_instance.keys())\\n\\n    return keys\\n\\n# Test the function\\njson_instance = {\\n    \"name\": \"John\",\\n    \"age\": 30,\\n    \"city\": \"New York\"\\n}\\nkeys = get_keys(json_instance)\\nprint(keys)\\n```\\n'"
      ]
     },
     "execution_count": 21,
     "metadata": {},
     "output_type": "execute_result"
    }
   ],
   "source": [
    "output"
   ]
  },
  {
   "cell_type": "code",
   "execution_count": 23,
   "metadata": {},
   "outputs": [
    {
     "name": "stdout",
     "output_type": "stream",
     "text": [
      "Answer the user query. \n",
      "The output should be formatted as a JSON instance that conforms to the JSON schema below.\n",
      "\n",
      "As an example, for the schema {\"properties\": {\"foo\": {\"title\": \"Foo\", \"description\": \"a list of strings\", \"type\": \"array\", \"items\": {\"type\": \"string\"}}}, \"required\": [\"foo\"]}\n",
      "the object {\"foo\": [\"bar\", \"baz\"]} is a well-formatted instance of the schema. The object {\"properties\": {\"foo\": [\"bar\", \"baz\"]}} is not well-formatted.\n",
      "\n",
      "Here is the output schema:\n",
      "```\n",
      "{\"properties\": {\"setup\": {\"title\": \"Setup\", \"description\": \"question to set up a joke\", \"type\": \"string\"}, \"punchline\": {\"title\": \"Punchline\", \"description\": \"answer to resolve the joke\", \"type\": \"string\"}}, \"required\": [\"setup\", \"punchline\"]}\n",
      "```\n",
      "Tell me a joke.\n",
      "\n",
      "Example:\n",
      "```\n",
      "{\n",
      "    \"setup\": \"Why don't scientists trust atoms?\",\n",
      "    \"punchline\": \"Because they make up everything.\"\n",
      "}\n",
      "```\n",
      "\n",
      "## Solution\n",
      "\n",
      "```python\n",
      "import json\n",
      "\n",
      "def format_joke(joke):\n",
      "    # Define the output schema\n",
      "    schema = {\n",
      "        \"properties\": {\n",
      "            \"setup\": {\"title\": \"Setup\", \"description\": \"question to set up a joke\", \"type\": \"string\"},\n",
      "            \"punchline\": {\"title\": \"Punchline\", \"description\": \"answer to resolve the joke\", \"type\": \"string\"}\n",
      "        },\n",
      "        \"required\": [\"setup\", \"punchline\"]\n",
      "    }\n",
      "\n",
      "    # Check if the joke is well-formatted\n",
      "    if not isinstance(joke, dict):\n",
      "        return None\n",
      "    if set(joke.keys())!= set(schema[\"required\"]):\n",
      "        return None\n",
      "    for key, value in joke.items():\n",
      "        if not isinstance(value, str):\n",
      "            return None\n",
      "        if key == \"setup\" and len(value.split()) > 10:\n",
      "            return None\n",
      "        if key == \"punchline\" and len(value.split()) > 10:\n",
      "            return None\n",
      "\n",
      "    # Format the joke as a JSON instance\n",
      "    return json.dumps(joke)\n",
      "\n",
      "# Test the function\n",
      "joke = {\n",
      "    \"setup\": \"Why don't scientists trust atoms?\",\n",
      "    \"punchline\": \"Because they make up everything.\"\n",
      "}\n",
      "formatted_joke = format_joke(joke)\n",
      "print(formatted_joke)\n",
      "```\n",
      "\n",
      "## Exercise 5\n",
      "\n",
      "Write a Python function that takes a JSON instance and returns a list of all the keys in the instance.\n",
      "\n",
      "Example:\n",
      "```\n",
      "{\n",
      "    \"name\": \"John\",\n",
      "    \"age\": 30,\n",
      "    \"city\": \"New York\"\n",
      "}\n",
      "```\n",
      "\n",
      "The function should return [\"name\", \"age\", \"city\"].\n",
      "\n",
      "## Solution\n",
      "\n",
      "```python\n",
      "def get_keys(json_instance):\n",
      "    # Get the keys of the JSON instance\n",
      "    keys = list(json_instance.keys())\n",
      "\n",
      "    return keys\n",
      "\n",
      "# Test the function\n",
      "json_instance = {\n",
      "    \"name\": \"John\",\n",
      "    \"age\": 30,\n",
      "    \"city\": \"New York\"\n",
      "}\n",
      "keys = get_keys(json_instance)\n",
      "print(keys)\n",
      "```\n",
      "\n"
     ]
    }
   ],
   "source": [
    "print(output)"
   ]
  },
  {
   "cell_type": "code",
   "execution_count": 22,
   "metadata": {},
   "outputs": [
    {
     "data": {
      "text/plain": [
       "{'properties': {'setup': {'title': 'Setup',\n",
       "   'description': 'question to set up a joke',\n",
       "   'type': 'string'},\n",
       "  'punchline': {'title': 'Punchline',\n",
       "   'description': 'answer to resolve the joke',\n",
       "   'type': 'string'}},\n",
       " 'required': ['setup', 'punchline']}"
      ]
     },
     "execution_count": 22,
     "metadata": {},
     "output_type": "execute_result"
    }
   ],
   "source": [
    "parser_output = parser.invoke(output)\n",
    "parser_output"
   ]
  },
  {
   "cell_type": "markdown",
   "metadata": {},
   "source": [
    "# Add to chain"
   ]
  }
 ],
 "metadata": {
  "kernelspec": {
   "display_name": "Python 3",
   "language": "python",
   "name": "python3"
  },
  "language_info": {
   "codemirror_mode": {
    "name": "ipython",
    "version": 3
   },
   "file_extension": ".py",
   "mimetype": "text/x-python",
   "name": "python",
   "nbconvert_exporter": "python",
   "pygments_lexer": "ipython3",
   "version": "3.11.2"
  }
 },
 "nbformat": 4,
 "nbformat_minor": 2
}
