{
 "cells": [
  {
   "cell_type": "code",
   "execution_count": 5,
   "metadata": {},
   "outputs": [
    {
     "data": {
      "text/plain": [
       "213"
      ]
     },
     "execution_count": 5,
     "metadata": {},
     "output_type": "execute_result"
    }
   ],
   "source": [
    "from langchain_community.document_loaders import PyPDFDirectoryLoader\n",
    "\n",
    "path_dir = \"../data_source/generative_ai/\"\n",
    "pdf_loader = PyPDFDirectoryLoader(path_dir)\n",
    "docs = pdf_loader. load()\n",
    "len(docs) # 36 pages from 2 pdf files"
   ]
  },
  {
   "cell_type": "code",
   "execution_count": 6,
   "metadata": {},
   "outputs": [
    {
     "name": "stdout",
     "output_type": "stream",
     "text": [
      "['../data_source/generative_ai\\\\Attention Is All You Need.pdf', '../data_source/generative_ai\\\\BERT- Pre-training of Deep Bidirectional Transformers for Language Understanding.pdf', '../data_source/generative_ai\\\\Chain-of-Thought Prompting Elicits Reasoning in Large Language Models.pdf', '../data_source/generative_ai\\\\Denoising Diffusion Probabilistic Models.pdf', '../data_source/generative_ai\\\\Instruction Tuning for Large Language Models- A Survey.pdf', '../data_source/generative_ai\\\\Llama 2- Open Foundation and Fine-Tuned Chat Models.pdf']\n"
     ]
    }
   ],
   "source": [
    "import glob\n",
    "files = glob.glob(\"../data_source/generative_ai/*.pdf\")\n",
    "print(files)  # Xem danh sách tệp PDF được tìm thấy\n"
   ]
  }
 ],
 "metadata": {
  "kernelspec": {
   "display_name": "Python 3",
   "language": "python",
   "name": "python3"
  },
  "language_info": {
   "codemirror_mode": {
    "name": "ipython",
    "version": 3
   },
   "file_extension": ".py",
   "mimetype": "text/x-python",
   "name": "python",
   "nbconvert_exporter": "python",
   "pygments_lexer": "ipython3",
   "version": "3.11.2"
  }
 },
 "nbformat": 4,
 "nbformat_minor": 2
}
